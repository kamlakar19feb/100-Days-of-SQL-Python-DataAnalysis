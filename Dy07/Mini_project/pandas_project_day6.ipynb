#Task: Load a dataset and:
#Group sales data by Month and Product.
df=pd.read_csv("sales (1).csv")

df['InvoiceDate'] = pd.to_datetime(df['InvoiceDate'])
df['Month']=df['InvoiceDate'].dt.month
grouped=df.groupby(['Month','StockCode'])['Price'].sum().reset_index
print(grouped)

#Find the top-selling product in each month (like the SQL project, but in Pandas).
________________________________________
# Load dataset
df=pd.read_csv("sales (1).csv")
# Convert date to datetime and extract month_year
df['InvoiceDate'] = pd.to_datetime(df['InvoiceDate'])
df['Month_Year'] = df['InvoiceDate'].dt.to_period('M')
# Create a 'Sales' column (Quantity × Price)
df['Sales'] = df['Quantity'] * df['Price']
# Group by Month and Product (StockCode), sum the Sales
grouped = df.groupby(['Month_Year', 'StockCode'])['Sales'].sum().reset_index()
# For each Month, find product with maximum Sales
top_products=grouped.loc[grouped.groupby('Month_Year')['Sales'].idxmax()]
top_products = top_products.reset_index(drop=True)
print(top_products)
