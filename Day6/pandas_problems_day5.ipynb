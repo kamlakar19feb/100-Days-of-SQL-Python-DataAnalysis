#Pandas Problems
#1.	Load a dataset and count how many unique values are in each column.
#(Hint: df.nunique())
df=pd.read_csv("netflix.csv")
df.nunique()

2.	Find the column with the maximum missing values.
(You already did “minimum missing,” now do maximum.)
3.	df=pd.read_csv("netflix.csv")
missing_counts=df.isna().sum()
max_missing_col=missing_counts.idxmax()
print("Column with maximum missing values:", max_missing_col)
print("Missing count:", missing_counts[max_missing_col])
