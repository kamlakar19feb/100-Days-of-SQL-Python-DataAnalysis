 #Pandas Project
#Task: Load a dataset and:
#•	Replace all missing values in numeric columns with the median (instead of mean).
#•	Replace all missing values in categorical columns with a fixed value "Unknown".
df=pd.read_csv("sehwag.csv")
df.dtypes
print("Before filling:")
print(df)
# Fill numeric columns with median
num_cols = df.select_dtypes(include=["number"]).columns
for col in num_cols:
    df[col].fillna(df[col].median(), inplace=True)
# Fill categorical columns with "Unknown"
cat_cols = df.select_dtypes(include=["object"]).columns
for col in cat_cols:
    df[col].fillna("Unknown", inplace=True)
print("\nAfter filling column Runs with median:")
print(df)
