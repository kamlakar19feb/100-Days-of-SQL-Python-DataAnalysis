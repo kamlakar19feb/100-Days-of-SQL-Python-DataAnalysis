print(df.describe())
for col in df.columns:
    print(f"{col}: {df[col].nunique()} unique values")
