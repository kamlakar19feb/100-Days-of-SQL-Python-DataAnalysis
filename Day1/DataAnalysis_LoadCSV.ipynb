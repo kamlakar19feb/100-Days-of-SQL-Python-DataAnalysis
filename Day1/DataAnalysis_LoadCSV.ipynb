# Day 1 - Data Analysis Project
# Task: Load a CSV file and display first 5 rows

import pandas as pd

# Replace 'sample.csv' with your own dataset
df = pd.read_csv("sample.csv")
print("First 5 rows of dataset:")
print(df.head())
