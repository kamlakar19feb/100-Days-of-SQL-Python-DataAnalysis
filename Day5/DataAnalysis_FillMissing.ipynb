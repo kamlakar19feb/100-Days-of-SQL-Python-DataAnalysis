df=pd.read_csv("sehwag.csv")
print("Before filling:")
print(df)
# Fill missing values in column 'A' with mean of 'A'
mode_value = df["Dismissal"].mode()[0]
df["Dismissal"].fillna(mode_value, inplace=True)
print("\nAfter filling column Dismissal with mode:")
print(df)
